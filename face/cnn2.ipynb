{
 "cells": [
  {
   "cell_type": "code",
   "execution_count": null,
   "metadata": {},
   "outputs": [],
   "source": [
    "import os\n",
    "os.environ[\"CUDA_VISIBLE_DEVICES\"]=\"0\"\n",
    "from matplotlib import pyplot as plt\n",
    "from glob import glob\n",
    "import numpy as np\n",
    "from keras.models import Sequential\n",
    "from keras.optimizers import SGD, Adam\n",
    "from keras.layers import Conv2D, MaxPooling2D, Flatten, Dropout, Dense, Activation\n",
    "from keras.layers.normalization import BatchNormalization\n",
    "from keras.models import load_model\n",
    "from sklearn.model_selection import train_test_split\n",
    "from keras.backend.tensorflow_backend import set_session\n",
    "from keras.preprocessing.image import load_img, img_to_array\n",
    "import tensorflow as tf\n",
    "from keras.callbacks import EarlyStopping, LearningRateScheduler, ModelCheckpoint\n",
    "from skimage.util import random_noise, crop\n",
    "from sklearn.utils import shuffle\n",
    "from skimage.transform import resize, rotate\n",
    "%matplotlib inline"
   ]
  },
  {
   "cell_type": "code",
   "execution_count": null,
   "metadata": {},
   "outputs": [],
   "source": [
    "config = tf.ConfigProto()\n",
    "config.gpu_options.allow_growth = True\n",
    "set_session(tf.Session(config=config))"
   ]
  },
  {
   "cell_type": "code",
   "execution_count": null,
   "metadata": {},
   "outputs": [],
   "source": [
    "PATH = '00_input/'\n",
    "IMSIZE = 100\n",
    "MAXN = 6000\n",
    "flip_indices = [\n",
    "                (0, 6), (1, 7), (2, 4), (3, 5),\n",
    "                (10, 16), (11, 17), (12, 14), (13, 15),\n",
    "                (8, 18), (9, 19), (22, 26), (23, 27)\n",
    "                ]"
   ]
  },
  {
   "cell_type": "code",
   "execution_count": null,
   "metadata": {},
   "outputs": [],
   "source": [
    "class Generator(object):\n",
    "    import numpy as np\n",
    "    def __init__(self,\n",
    "                 X, \n",
    "                 y,\n",
    "                 bs,\n",
    "                 flip_ratio,\n",
    "                 rotate_ratio,\n",
    "                 noise_ratio,\n",
    "                 zoom_ratio,\n",
    "                 zoom_range,\n",
    "                 flip_indices):\n",
    "        self.X = X\n",
    "        self.y = y\n",
    "        self.bs = bs\n",
    "        self.flip_ratio = flip_ratio\n",
    "        self.rotate_ratio = rotate_ratio\n",
    "        self.noise_ratio = noise_ratio\n",
    "        self.zoom_ratio = zoom_ratio\n",
    "        self.zoom_range = zoom_range\n",
    "        \n",
    "        self.size = X.shape[0]\n",
    "        self.flip_indices = flip_indices\n",
    "    \n",
    "    def _random_indices(self, ratio):\n",
    "        size = int(self.bs * ratio)\n",
    "        return np.random.choice(self.bs, size, replace=False)\n",
    "    \n",
    "    def flip(self):\n",
    "        indices = self._random_indices(self.flip_ratio)\n",
    "        self.inputs[indices] = self.inputs[indices, :, ::-1]\n",
    "        self.targets[indices, ::2] = self.targets[indices, ::2] * -1\n",
    "        for a, b in self.flip_indices:\n",
    "            self.targets[indices, a], self.targets[indices, b] = \\\n",
    "            self.targets[indices, b], self.targets[indices, a]\n",
    "    \n",
    "    def rotate(self):\n",
    "        indices = self._random_indices(self.rotate_ratio)\n",
    "        self.targets = self.targets.reshape(len(self.targets), self.y.shape[1] // 2, 2)\n",
    "        for i in indices:\n",
    "            angle = np.random.randint(-10, 10)\n",
    "            self.inputs[i] = rotate(self.inputs[i], angle)\n",
    "            angle = angle * np.pi / 180\n",
    "            C = [[np.cos(angle), -np.sin(angle)],\n",
    "                 [np.sin(angle), np.cos(angle)]]\n",
    "            self.targets[i] = np.dot(self.targets[i], C)\n",
    "        self.targets = self.targets.reshape(-1, self.y.shape[1])\n",
    "    \n",
    "    def zoom(self):\n",
    "        indices = self._random_indices(self.zoom_ratio)\n",
    "        for i in indices:\n",
    "            a, b = np.random.randint(0, self.zoom_range, 2)\n",
    "            self.targets[i] = self.targets[i] * (IMSIZE / 2) + (IMSIZE / 2)\n",
    "            self.targets[i, ::2] = self.targets[i, ::2] - b\n",
    "            self.targets[i, 1::2] = self.targets[i, 1::2] - a\n",
    "            self.targets[i] = 2 * (self.targets[i] - (IMSIZE - self.zoom_range) / 2) / (IMSIZE - self.zoom_range)\n",
    "            self.inputs[i] = resize(self.inputs[i, a:-self.zoom_range+a, b:-self.zoom_range+b], (IMSIZE, IMSIZE))\n",
    "            \n",
    "    def noise(self):\n",
    "        indices = self._random_indices(self.noise_ratio)\n",
    "        for i in indices:\n",
    "            self.inputs[i] = random_noise(self.inputs[i])\n",
    "    \n",
    "    def generate(self):\n",
    "        while True:\n",
    "            self.X, self.y = shuffle(self.X, self.y)\n",
    "            start = 0\n",
    "            stop = self.bs\n",
    "            for i in range(self.size // self.bs):\n",
    "                self.inputs = self.X[start:stop].copy()\n",
    "                self.targets = self.y[start:stop].copy()\n",
    "                start += self.bs\n",
    "                stop += self.bs\n",
    "                self.flip()\n",
    "                self.rotate()\n",
    "                self.noise()\n",
    "                self.zoom()\n",
    "                yield (self.inputs, self.targets)"
   ]
  },
  {
   "cell_type": "code",
   "execution_count": null,
   "metadata": {},
   "outputs": [],
   "source": [
    "def load(n=MAXN, test=False):\n",
    "    \n",
    "    cols = np.arange(1, 29)\n",
    "    go = PATH + 'train/'\n",
    "    fnames = glob(go + 'images/*')\n",
    "    X = np.zeros((n, IMSIZE, IMSIZE, 3))\n",
    "    y = None\n",
    "    \n",
    "    if not test:\n",
    "        y = np.genfromtxt(go + 'gt.csv', delimiter=',', skip_header=1, usecols=cols)\n",
    "    \n",
    "    for i, name in enumerate(sorted(fnames)[:n]):\n",
    "        img = load_img(name, target_size=(IMSIZE, IMSIZE))\n",
    "        img = img_to_array(img)\n",
    "        \n",
    "        if not test:\n",
    "            h, w = img_to_array(load_img(name)).shape[:2]\n",
    "            y[i, 0::2] = 2 * (y[i, 0::2] - w / 2) / w\n",
    "            y[i, 1::2] = 2 * (y[i, 1::2] - h / 2) / h\n",
    "        \n",
    "        X[i] = img\n",
    "    \n",
    "    X /= 255.\n",
    "    \n",
    "    return X, y[:n]"
   ]
  },
  {
   "cell_type": "code",
   "execution_count": null,
   "metadata": {},
   "outputs": [],
   "source": [
    "def plot_sample(x, y, axs):\n",
    "    \n",
    "    axs.imshow(x)\n",
    "    sz = x.shape[0]\n",
    "    axs.scatter(y[0::2] * (sz // 2) + (sz // 2), y[1::2] * (sz // 2) + (sz // 2))"
   ]
  },
  {
   "cell_type": "code",
   "execution_count": null,
   "metadata": {},
   "outputs": [],
   "source": [
    "def CNN():\n",
    "    model = Sequential()\n",
    "    model.add(Conv2D(32, (3, 3), input_shape = (IMSIZE, IMSIZE, 3)))\n",
    "    model.add(Activation('relu'))\n",
    "    model.add(MaxPooling2D(pool_size=(2, 2)))\n",
    "\n",
    "    model.add(Conv2D(64, (2, 2)))\n",
    "    model.add(Activation('relu'))\n",
    "    model.add(MaxPooling2D(pool_size=(2, 2)))\n",
    "    \n",
    "    model.add(Conv2D(128,(2,2)))\n",
    "    model.add(Activation('relu'))\n",
    "    model.add(MaxPooling2D(pool_size=(2, 2)))\n",
    "    \n",
    "    model.add(Flatten())\n",
    "    \n",
    "    model.add(Dense(1000))\n",
    "    model.add(Activation('relu'))\n",
    "    model.add(Dropout(0.5))\n",
    "    model.add(Dense(1000))\n",
    "    model.add(Activation('relu'))\n",
    "    model.add(Dropout(0.5))\n",
    "    model.add(Dense(28))\n",
    "    \n",
    "    return model"
   ]
  },
  {
   "cell_type": "code",
   "execution_count": null,
   "metadata": {},
   "outputs": [],
   "source": [
    "def cosine_lr(start, stop, epochs, n):\n",
    "    epochs /= n\n",
    "    res = stop + (start - stop) / 2 * (1  + np.cos(np.linspace(0, epochs, epochs) * np.pi / epochs))\n",
    "    res = np.concatenate([res for i in range(n)])\n",
    "    return res"
   ]
  },
  {
   "cell_type": "code",
   "execution_count": null,
   "metadata": {},
   "outputs": [],
   "source": [
    "X, y = load()"
   ]
  },
  {
   "cell_type": "code",
   "execution_count": null,
   "metadata": {},
   "outputs": [],
   "source": [
    "X_train, X_val, y_train, y_val = train_test_split(X, y, test_size=0.15, random_state=42)"
   ]
  },
  {
   "cell_type": "code",
   "execution_count": null,
   "metadata": {},
   "outputs": [],
   "source": [
    "start = 0.001\n",
    "stop = 0.0001\n",
    "epochs = 300\n",
    "learning_rates = cosine_lr(start, stop, epochs, 1)\n",
    "change_lr = LearningRateScheduler(lambda e: float(learning_rates[e]))\n",
    "early_stop = EarlyStopping(patience=100)\n",
    "sgd = SGD(lr=start, momentum=0.9, nesterov=True)\n",
    "checkpoint = ModelCheckpoint('model.{epoch:04d}-{val_loss:.5f}.hdf5', monitor='val_loss', \n",
    "                             period=50, verbose=0)"
   ]
  },
  {
   "cell_type": "code",
   "execution_count": null,
   "metadata": {},
   "outputs": [],
   "source": [
    "model = CNN()\n",
    "model.compile(loss='mean_squared_error', optimizer=Adam(lr=start))"
   ]
  },
  {
   "cell_type": "code",
   "execution_count": null,
   "metadata": {},
   "outputs": [],
   "source": [
    "bs = 100\n",
    "gen_train = Generator(X_train, y_train, bs=bs,\n",
    "                      flip_ratio=0.5,\n",
    "                      rotate_ratio=0.7,\n",
    "                      noise_ratio=0,\n",
    "                      zoom_ratio=0.7,\n",
    "                      zoom_range=8,\n",
    "                      flip_indices=flip_indices)"
   ]
  },
  {
   "cell_type": "code",
   "execution_count": null,
   "metadata": {},
   "outputs": [],
   "source": [
    "model.fit_generator(gen_train.generate(), verbose=1,\n",
    "                    steps_per_epoch=X_train.shape[0] // bs,\n",
    "                    epochs=epochs, validation_data=(X_val, y_val),\n",
    "                    callbacks=[change_lr, early_stop, checkpoint])"
   ]
  },
  {
   "cell_type": "code",
   "execution_count": null,
   "metadata": {},
   "outputs": [],
   "source": [
    "model.save('facepoints-model.hdf5')"
   ]
  }
 ],
 "metadata": {
  "kernelspec": {
   "display_name": "Python 3",
   "language": "python",
   "name": "python3"
  },
  "language_info": {
   "codemirror_mode": {
    "name": "ipython",
    "version": 3
   },
   "file_extension": ".py",
   "mimetype": "text/x-python",
   "name": "python",
   "nbconvert_exporter": "python",
   "pygments_lexer": "ipython3",
   "version": "3.6.4"
  }
 },
 "nbformat": 4,
 "nbformat_minor": 2
}
