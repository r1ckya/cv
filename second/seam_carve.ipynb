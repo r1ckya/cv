{
 "cells": [
  {
   "cell_type": "code",
   "execution_count": 106,
   "metadata": {},
   "outputs": [],
   "source": [
    "import numpy as np\n",
    "from skimage import io\n",
    "from itertools import accumulate, chain\n",
    "\n",
    "def build_ymap(img):\n",
    "     return img[:, :, 0] * 0.299 + img[:, :, 1] * 0.587 + img[:, :, 2] * 0.114\n",
    "\n",
    "def grad_norm(ymap):\n",
    "    grad = np.gradient(ymap)\n",
    "    grad[0][1:-1, :] *= 2\n",
    "    grad[1][:, 1:-1] *= 2\n",
    "    return sum(a ** 2 for a in grad) ** 0.5\n",
    "\n",
    "def build_seam_map(grad):\n",
    "    ret = grad.copy()\n",
    "    for cur, prev in zip(ret[1:], ret[:-1]):\n",
    "        cur[1:-1] += np.minimum(np.minimum(prev[:-2], prev[1:-1]), prev[2:])\n",
    "        cur[0] += min(prev[0], prev[1])\n",
    "        cur[-1] += min(prev[-1], prev[-2])\n",
    "    return ret\n",
    "\n",
    "def get_seam(seam_map):\n",
    "    return np.fromiter(accumulate(chain([seam_map[-1].argmin()], seam_map[-2::-1]),\n",
    "                                  lambda x, y: x + y[x - 1: x + 2].argmin() - 1 if x > 0 else y[:2].argmin()), \n",
    "                       dtype=np.int32) + np.arange(seam_map.shape[0] - 1, -1, -1) * seam_map.shape[1]\n",
    "\n",
    "def add_seam(img, idxs):\n",
    "    n, m = img.shape[:2]\n",
    "    idxs1 = idxs + 1 - (idxs % m == m - 1)\n",
    "    return np.dstack((np.insert(it, idxs, (it[idxs] + it[idxs1]) // 2).reshape(n, m + 1)\n",
    "         for it in map(np.ravel, np.dsplit(img, 3))))\n",
    "\n",
    "def seam_carve(img, mode='horizontal shrink', mask=None):\n",
    "    if mask is None:\n",
    "        mask = np.zeros(img.shape[:2])\n",
    "    else:\n",
    "        mask = mask.copy()\n",
    "    img = img.copy()\n",
    "    if mode.split()[0] == 'vertical':\n",
    "        img = img.transpose(1, 0, 2)\n",
    "        mask = mask.T\n",
    "    n, m = img.shape[:2]\n",
    "    seam_mask = np.zeros((n, m))\n",
    "    ymap = build_ymap(img)\n",
    "    grad = grad_norm(ymap)\n",
    "    grad += 2 ** 0.5 * 255 * n * m * mask\n",
    "    seam_map = build_seam_map(grad)\n",
    "    idxs = get_seam(seam_map)\n",
    "    seam_mask.ravel()[idxs] = 1\n",
    "    if mode.split()[1] == 'shrink':\n",
    "        mask = np.delete(mask, idxs)\n",
    "        img = np.delete(img, idxs, axis=2)\n",
    "    else:\n",
    "        mask.ravel()[idxs] = 1\n",
    "        mask = np.insert(mask, idxs, np.ones(n)).reshape(n, m + 1)\n",
    "        img = add_seam(img, idxs)\n",
    "    if mode.split()[0] == 'vertical':\n",
    "        img = img.transpose(1, 0, 2)\n",
    "        mask = mask.T\n",
    "        seam_mask = seam_mask.T\n",
    "    return img, mask, seam_mask"
   ]
  },
  {
   "cell_type": "code",
   "execution_count": 109,
   "metadata": {},
   "outputs": [],
   "source": [
    "x = np.arange(3).reshape(1, 1, 3)\n",
    "a, b, c = np.dsplit(x, 3)"
   ]
  },
  {
   "cell_type": "code",
   "execution_count": 110,
   "metadata": {},
   "outputs": [
    {
     "data": {
      "text/plain": [
       "array([[[0, 1, 2]]])"
      ]
     },
     "execution_count": 110,
     "metadata": {},
     "output_type": "execute_result"
    }
   ],
   "source": [
    "x"
   ]
  },
  {
   "cell_type": "code",
   "execution_count": 111,
   "metadata": {},
   "outputs": [
    {
     "data": {
      "text/plain": [
       "array([[[0]]])"
      ]
     },
     "execution_count": 111,
     "metadata": {},
     "output_type": "execute_result"
    }
   ],
   "source": [
    "a"
   ]
  },
  {
   "cell_type": "code",
   "execution_count": 112,
   "metadata": {},
   "outputs": [],
   "source": [
    "a[:, :, 0] = 5"
   ]
  },
  {
   "cell_type": "code",
   "execution_count": 113,
   "metadata": {},
   "outputs": [
    {
     "data": {
      "text/plain": [
       "array([[[5]]])"
      ]
     },
     "execution_count": 113,
     "metadata": {},
     "output_type": "execute_result"
    }
   ],
   "source": [
    "a"
   ]
  },
  {
   "cell_type": "code",
   "execution_count": 114,
   "metadata": {},
   "outputs": [
    {
     "data": {
      "text/plain": [
       "array([[[5, 1, 2]]])"
      ]
     },
     "execution_count": 114,
     "metadata": {},
     "output_type": "execute_result"
    }
   ],
   "source": [
    "x"
   ]
  },
  {
   "cell_type": "code",
   "execution_count": 116,
   "metadata": {},
   "outputs": [],
   "source": [
    "g = np.vstack((a, b))"
   ]
  },
  {
   "cell_type": "code",
   "execution_count": 117,
   "metadata": {},
   "outputs": [
    {
     "data": {
      "text/plain": [
       "(2, 1, 1)"
      ]
     },
     "execution_count": 117,
     "metadata": {},
     "output_type": "execute_result"
    }
   ],
   "source": [
    "g.shape"
   ]
  },
  {
   "cell_type": "code",
   "execution_count": 118,
   "metadata": {},
   "outputs": [],
   "source": [
    "g[0, 0, 0] = 4"
   ]
  },
  {
   "cell_type": "code",
   "execution_count": 119,
   "metadata": {},
   "outputs": [
    {
     "data": {
      "text/plain": [
       "array([[[5, 1, 2]]])"
      ]
     },
     "execution_count": 119,
     "metadata": {},
     "output_type": "execute_result"
    }
   ],
   "source": [
    "x"
   ]
  },
  {
   "cell_type": "code",
   "execution_count": 124,
   "metadata": {},
   "outputs": [],
   "source": [
    "g = np.array([1,0, 0, 1])"
   ]
  },
  {
   "cell_type": "code",
   "execution_count": 125,
   "metadata": {},
   "outputs": [
    {
     "data": {
      "text/plain": [
       "array([1, 0, 0, 1])"
      ]
     },
     "execution_count": 125,
     "metadata": {},
     "output_type": "execute_result"
    }
   ],
   "source": [
    "g"
   ]
  },
  {
   "cell_type": "code",
   "execution_count": 122,
   "metadata": {},
   "outputs": [
    {
     "data": {
      "text/plain": [
       "array([1])"
      ]
     },
     "execution_count": 122,
     "metadata": {},
     "output_type": "execute_result"
    }
   ],
   "source": [
    "np.delete(g.ravel(), 0)"
   ]
  },
  {
   "cell_type": "code",
   "execution_count": 127,
   "metadata": {},
   "outputs": [
    {
     "data": {
      "text/plain": [
       "array([ True, False, False,  True], dtype=bool)"
      ]
     },
     "execution_count": 127,
     "metadata": {},
     "output_type": "execute_result"
    }
   ],
   "source": [
    "g == 1"
   ]
  },
  {
   "cell_type": "code",
   "execution_count": null,
   "metadata": {},
   "outputs": [],
   "source": []
  }
 ],
 "metadata": {
  "kernelspec": {
   "display_name": "Python 3",
   "language": "python",
   "name": "python3"
  },
  "language_info": {
   "codemirror_mode": {
    "name": "ipython",
    "version": 3
   },
   "file_extension": ".py",
   "mimetype": "text/x-python",
   "name": "python",
   "nbconvert_exporter": "python",
   "pygments_lexer": "ipython3",
   "version": "3.6.4"
  }
 },
 "nbformat": 4,
 "nbformat_minor": 2
}
