{
 "cells": [
  {
   "cell_type": "code",
   "execution_count": 51,
   "metadata": {},
   "outputs": [],
   "source": [
    "import numpy as np\n",
    "from skimage import io\n",
    "\n",
    "def build_ymap(img):\n",
    "     return img[:, :, 0] * 0.299 + img[:, :, 1] * 0.587 + img[:, :, 2] * 0.114\n",
    "\n",
    "def grad_norm(ymap):\n",
    "    grad = np.gradient(ymap)\n",
    "    grad[0][1:-1, :] *= 2\n",
    "    grad[1][:, 1:-1] *= 2\n",
    "    return sum(a ** 2 for a in grad) ** 0.5\n",
    "\n",
    "def build_seam_map(grad):\n",
    "    ret = grad.copy()\n",
    "    for cur, prev in zip(ret[1:], ret[:-1]):\n",
    "        cur[1:-1] += np.vstack((prev[:-2], prev[1:-1], prev[2:])).min(axis=0)\n",
    "        cur[0] += min(prev[0], prev[1])\n",
    "        cur[-1] += min(prev[-1], prev[-2])\n",
    "    return ret\n",
    "\n",
    "def rem_seam(img, idxs):\n",
    "    n, m = img.shape[:2]\n",
    "    rem = np.hstack((idxs * 3, idxs * 3 + 1, idxs * 3 + 2))\n",
    "    return np.delete(img, rem).reshape(n, m - 1, 3)\n",
    "\n",
    "def get_seam(seam_map):\n",
    "    n = seam_map.shape[0] - 1\n",
    "    m = seam_map.shape[1]\n",
    "    j = np.argmin(seam_map[n])\n",
    "    idxs = [n * m + j]\n",
    "    n -= 1\n",
    "    for cur in seam_map[-2::-1]:\n",
    "        if j == 0:\n",
    "            if cur[0] > cur[1]:\n",
    "                j = 1\n",
    "        else:\n",
    "            j += np.argmin(cur[j - 1: j + 2]) - 1\n",
    "        idxs += [n * m + j]\n",
    "        n -= 1\n",
    "    return np.array(idxs)\n",
    "\n",
    "def add_seam(img, idxs):\n",
    "    n, m = img.shape[:2]\n",
    "    idxs1 = idxs + 1 - (idxs % m == m - 1)\n",
    "    return np.dstack((np.insert(it, idxs, (it[idxs] + it[idxs1]) // 2).reshape(n, m + 1)\n",
    "         for it in map(np.ravel, np.split(img, 3, 2))))\n",
    "\n",
    "def seam_carve(img, mode='horizontal shrink', mask=None):\n",
    "    if mask is None:\n",
    "        mask = np.zeros(img.shape[:2])\n",
    "    else:\n",
    "        mask = mask.copy()\n",
    "    img = img.copy()\n",
    "    if mode.split()[0] == 'vertical':\n",
    "        img = img.transpose(1, 0, 2)\n",
    "        mask = mask.T\n",
    "    n, m = img.shape[:2]\n",
    "    seam_mask = np.zeros((n, m))\n",
    "    ymap = build_ymap(img)\n",
    "    grad = grad_norm(ymap)\n",
    "    grad += 2 ** 0.5 * 255 * n * m * mask\n",
    "    seam_map = build_seam_map(grad)\n",
    "    idxs = get_seam(seam_map)\n",
    "    seam_mask.ravel()[idxs] = 1\n",
    "    if mode.split()[1] == 'shrink':\n",
    "        mask = np.delete(mask, idxs).reshape(n, m - 1)\n",
    "        img = rem_seam(img, idxs)\n",
    "    else:\n",
    "        mask.ravel()[idxs] = 1\n",
    "        mask = np.insert(mask.ravel(), idxs, np.ones(n)).reshape(n, m + 1)\n",
    "        img = add_seam(img, idxs)\n",
    "    if mode.split()[0] == 'vertical':\n",
    "        img = img.transpose(1, 0, 2)\n",
    "        mask = mask.T\n",
    "        seam_mask = seam_mask.T\n",
    "    return img, mask, seam_mask"
   ]
  },
  {
   "cell_type": "code",
   "execution_count": 52,
   "metadata": {},
   "outputs": [],
   "source": [
    "a = np.arange(5)"
   ]
  },
  {
   "cell_type": "code",
   "execution_count": 58,
   "metadata": {},
   "outputs": [
    {
     "data": {
      "text/plain": [
       "array([4, 3, 2, 1, 0])"
      ]
     },
     "execution_count": 58,
     "metadata": {},
     "output_type": "execute_result"
    }
   ],
   "source": [
    "a[-1::-1]"
   ]
  },
  {
   "cell_type": "code",
   "execution_count": null,
   "metadata": {},
   "outputs": [],
   "source": []
  }
 ],
 "metadata": {
  "kernelspec": {
   "display_name": "Python 3",
   "language": "python",
   "name": "python3"
  },
  "language_info": {
   "codemirror_mode": {
    "name": "ipython",
    "version": 3
   },
   "file_extension": ".py",
   "mimetype": "text/x-python",
   "name": "python",
   "nbconvert_exporter": "python",
   "pygments_lexer": "ipython3",
   "version": "3.6.4"
  }
 },
 "nbformat": 4,
 "nbformat_minor": 2
}
